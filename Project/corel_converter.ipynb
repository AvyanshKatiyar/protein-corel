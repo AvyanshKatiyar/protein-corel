{
 "cells": [
  {
   "cell_type": "code",
   "execution_count": 1,
   "id": "7f662550",
   "metadata": {},
   "outputs": [],
   "source": [
    "import pickle\n",
    "import random\n",
    "import os\n",
    "import numpy as np\n",
    "import tensorflow as tf\n",
    "import numpy as np\n",
    "import math\n",
    "import pandas as pd \n",
    "import os"
   ]
  },
  {
   "cell_type": "code",
   "execution_count": 17,
   "id": "5761019c",
   "metadata": {},
   "outputs": [],
   "source": [
    "#\n",
    "#   Corel converter\n",
    "#\n",
    "\n",
    "def corel_get_map(pdb, all_dist_paths, expected_l = -1):\n",
    "    seqy = None\n",
    "    \n",
    "    mypath = ''\n",
    "    for path in all_dist_paths:\n",
    "        if os.path.exists(path + pdb + '-cb.npy'):\n",
    "            mypath = path + pdb + '-cb.npy'\n",
    "            #from where what are we reading here\n",
    "            # ly length of the sequence, seqy is the sequence chain, cb_map is the distance mapping between pairs shape is (ly*ly)\n",
    "            (ly, seqy, cb_map) = np.load(path + pdb + '-cb.npy', allow_pickle = True)\n",
    "    if seqy == None:\n",
    "        print('Expected distance map file for', pdb, 'not found at', all_dist_paths)\n",
    "        exit(1)\n",
    "    if 'cameo' not in mypath and expected_l > 0:\n",
    "        assert expected_l == ly\n",
    "        assert cb_map.shape == ((expected_l, expected_l))\n",
    "    # Y contains the distance map\n",
    "    Y = cb_map\n",
    "\n",
    "    # Only CAMEO dataset has this issue\n",
    "    if 'cameo' not in mypath:\n",
    "        #if any value in Y is null then program stops\n",
    "        assert not np.any(np.isnan(Y))\n",
    "   #Cameo is in the path name then ignore\n",
    "    if np.any(np.isnan(Y)):\n",
    "        np.seterr(invalid='ignore')\n",
    "        print('')\n",
    "        print('WARNING!! Some values in the pdb structure of', pdb, 'l = ', ly, 'are missing or nan! Indices are: ', np.where(np.isnan(np.diagonal(Y))))\n",
    "    Y[Y <= 8.0] = -1.0\n",
    "    Y[Y>8]=0\n",
    "    KK=Y\n",
    "\n",
    "    for i in range (len(Y[0])):\n",
    "        KK[i][i]=-(sum(Y[i])-Y[i][i])\n",
    "\n",
    "    KK=KK.astype('float64')\n",
    "    w , v = np.linalg.eig(KK)\n",
    "    idx = w.argsort()\n",
    "    w = w[idx]\n",
    "    v = v[:,idx]\n",
    "\n",
    "    u=np.zeros(shape=(len(v[1]), len(v[1])))\n",
    "    for i in range (1,len(v)):\n",
    "\n",
    "        u=u+(np.matmul(v[:,i][:,None],v[:,i][None,:]))/w[i]\n",
    "    CC=u\n",
    "    C=np.zeros(shape=np.shape(u))\n",
    "\n",
    "    for i in range(len(CC[0])):\n",
    "        for j in range(len(CC[0])):\n",
    "            C[i][j]=CC[i][j]/np.sqrt(CC[i][i])/np.sqrt(CC[j][j])\n",
    "\n",
    "\n",
    "    np.save(\"./data/corel_data_psicov/\"+pdb + '-cb.npy', (ly, seqy, C), allow_pickle=True, fix_imports=True)\n",
    "\n",
    "\n",
    "\n"
   ]
  },
  {
   "cell_type": "code",
   "execution_count": null,
   "id": "679b1b8e",
   "metadata": {},
   "outputs": [
    {
     "data": {
      "application/vnd.jupyter.widget-view+json": {
       "model_id": "2c39943e629042e796c24e06e88045c4",
       "version_major": 2,
       "version_minor": 0
      },
      "text/plain": [
       "HBox(children=(HTML(value=''), FloatProgress(value=1.0, bar_style='info', layout=Layout(width='20px'), max=1.0…"
      ]
     },
     "metadata": {},
     "output_type": "display_data"
    },
    {
     "name": "stderr",
     "output_type": "stream",
     "text": [
      "/Users/avyanshkatiyar/opt/miniconda3/lib/python3.9/site-packages/numpy/core/_asarray.py:171: VisibleDeprecationWarning: Creating an ndarray from ragged nested sequences (which is a list-or-tuple of lists-or-tuples-or ndarrays with different lengths or shapes) is deprecated. If you meant to do this, you must specify 'dtype=object' when creating the ndarray.\n",
      "  return array(a, dtype, copy=False, order=order, subok=True)\n"
     ]
    }
   ],
   "source": [
    "from tqdm.notebook import tqdm\n",
    "def load_list(file_lst, max_items = 1000000):\n",
    "    if max_items < 0:\n",
    "        max_items = 1000000\n",
    "    protein_list = []\n",
    "    f = open(file_lst, 'r')\n",
    "    for l in f.readlines():\n",
    "        protein_list.append(l.strip().split()[0])\n",
    "    if (max_items < len(protein_list)):\n",
    "        protein_list = protein_list[:max_items]\n",
    "    return protein_list\n",
    "\n",
    "dir_dataset               = './data/' \n",
    "deepcov_list = load_list(dir_dataset + 'psicov.lst')\n",
    "\n",
    "all_dist_or_corel_paths = [dir_dataset + '/psicov/distance/'] #dir_dataset + '/psicov/distance/'\n",
    "\n",
    "for i, pdb in tqdm(enumerate(deepcov_list)):\n",
    "        #print(pdb)\n",
    "        Y = corel_get_map(pdb, all_dist_or_corel_paths)\n",
    "        "
   ]
  },
  {
   "cell_type": "code",
   "execution_count": null,
   "id": "7ae49a35",
   "metadata": {},
   "outputs": [],
   "source": []
  }
 ],
 "metadata": {
  "kernelspec": {
   "display_name": "Python 3",
   "language": "python",
   "name": "python3"
  },
  "language_info": {
   "codemirror_mode": {
    "name": "ipython",
    "version": 3
   },
   "file_extension": ".py",
   "mimetype": "text/x-python",
   "name": "python",
   "nbconvert_exporter": "python",
   "pygments_lexer": "ipython3",
   "version": "3.9.1"
  }
 },
 "nbformat": 4,
 "nbformat_minor": 5
}
